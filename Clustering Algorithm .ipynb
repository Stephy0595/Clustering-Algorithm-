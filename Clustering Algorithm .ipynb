{
 "cells": [
  {
   "cell_type": "markdown",
   "id": "431d1199-453e-46d3-8497-f252e7349a50",
   "metadata": {},
   "source": [
    "# Clustering Algorithm"
   ]
  },
  {
   "cell_type": "markdown",
   "id": "97a5db05-9416-4e6b-b351-57ff97c237ab",
   "metadata": {},
   "source": [
    "## 1. Loading and Preprocessing"
   ]
  },
  {
   "cell_type": "code",
   "execution_count": 49,
   "id": "dcd7a3b0-8da5-470e-bf8a-0965cfb33248",
   "metadata": {},
   "outputs": [],
   "source": [
    "import warnings\n",
    "import sys\n",
    "if not sys.warnoptions:\n",
    "    warnings.simplefilter(\"ignore\")"
   ]
  },
  {
   "cell_type": "code",
   "execution_count": 50,
   "id": "4286f4fb-164b-47cc-a742-868abc8fd85b",
   "metadata": {},
   "outputs": [],
   "source": [
    "from sklearn import datasets\n",
    "import pandas as pd\n",
    "import seaborn as sns \n",
    "from sklearn.preprocessing import StandardScaler\n",
    "from sklearn.cluster import KMeans\n",
    "from sklearn.metrics import silhouette_score, davies_bouldin_score,calinski_harabasz_score\n",
    "import scipy.cluster.hierarchy as shc\n",
    "from sklearn.cluster import AgglomerativeClustering"
   ]
  },
  {
   "cell_type": "code",
   "execution_count": 51,
   "id": "086e82d1-f092-41a0-91a8-03ef1b0afb10",
   "metadata": {},
   "outputs": [
    {
     "data": {
      "text/html": [
       "<div>\n",
       "<style scoped>\n",
       "    .dataframe tbody tr th:only-of-type {\n",
       "        vertical-align: middle;\n",
       "    }\n",
       "\n",
       "    .dataframe tbody tr th {\n",
       "        vertical-align: top;\n",
       "    }\n",
       "\n",
       "    .dataframe thead th {\n",
       "        text-align: right;\n",
       "    }\n",
       "</style>\n",
       "<table border=\"1\" class=\"dataframe\">\n",
       "  <thead>\n",
       "    <tr style=\"text-align: right;\">\n",
       "      <th></th>\n",
       "      <th>sepal length (cm)</th>\n",
       "      <th>sepal width (cm)</th>\n",
       "      <th>petal length (cm)</th>\n",
       "      <th>petal width (cm)</th>\n",
       "    </tr>\n",
       "  </thead>\n",
       "  <tbody>\n",
       "    <tr>\n",
       "      <th>0</th>\n",
       "      <td>5.1</td>\n",
       "      <td>3.5</td>\n",
       "      <td>1.4</td>\n",
       "      <td>0.2</td>\n",
       "    </tr>\n",
       "    <tr>\n",
       "      <th>1</th>\n",
       "      <td>4.9</td>\n",
       "      <td>3.0</td>\n",
       "      <td>1.4</td>\n",
       "      <td>0.2</td>\n",
       "    </tr>\n",
       "    <tr>\n",
       "      <th>2</th>\n",
       "      <td>4.7</td>\n",
       "      <td>3.2</td>\n",
       "      <td>1.3</td>\n",
       "      <td>0.2</td>\n",
       "    </tr>\n",
       "    <tr>\n",
       "      <th>3</th>\n",
       "      <td>4.6</td>\n",
       "      <td>3.1</td>\n",
       "      <td>1.5</td>\n",
       "      <td>0.2</td>\n",
       "    </tr>\n",
       "    <tr>\n",
       "      <th>4</th>\n",
       "      <td>5.0</td>\n",
       "      <td>3.6</td>\n",
       "      <td>1.4</td>\n",
       "      <td>0.2</td>\n",
       "    </tr>\n",
       "  </tbody>\n",
       "</table>\n",
       "</div>"
      ],
      "text/plain": [
       "   sepal length (cm)  sepal width (cm)  petal length (cm)  petal width (cm)\n",
       "0                5.1               3.5                1.4               0.2\n",
       "1                4.9               3.0                1.4               0.2\n",
       "2                4.7               3.2                1.3               0.2\n",
       "3                4.6               3.1                1.5               0.2\n",
       "4                5.0               3.6                1.4               0.2"
      ]
     },
     "execution_count": 51,
     "metadata": {},
     "output_type": "execute_result"
    }
   ],
   "source": [
    "# Load the Iris dataset\n",
    "iris = datasets.load_iris()\n",
    "data = pd.DataFrame(iris.data, columns=iris.feature_names)\n",
    "\n",
    "# Display the first few rows\n",
    "data.head()"
   ]
  },
  {
   "cell_type": "code",
   "execution_count": 52,
   "id": "f6629f8c-a9a2-4940-990b-b615006bd96c",
   "metadata": {},
   "outputs": [
    {
     "data": {
      "text/plain": [
       "(150, 4)"
      ]
     },
     "execution_count": 52,
     "metadata": {},
     "output_type": "execute_result"
    }
   ],
   "source": [
    "data.shape"
   ]
  },
  {
   "cell_type": "code",
   "execution_count": 53,
   "id": "a5a24398-3c20-42e2-a18c-04cc6ea79ddf",
   "metadata": {},
   "outputs": [
    {
     "name": "stdout",
     "output_type": "stream",
     "text": [
      "<class 'pandas.core.frame.DataFrame'>\n",
      "RangeIndex: 150 entries, 0 to 149\n",
      "Data columns (total 4 columns):\n",
      " #   Column             Non-Null Count  Dtype  \n",
      "---  ------             --------------  -----  \n",
      " 0   sepal length (cm)  150 non-null    float64\n",
      " 1   sepal width (cm)   150 non-null    float64\n",
      " 2   petal length (cm)  150 non-null    float64\n",
      " 3   petal width (cm)   150 non-null    float64\n",
      "dtypes: float64(4)\n",
      "memory usage: 4.8 KB\n"
     ]
    }
   ],
   "source": [
    "data.info()"
   ]
  },
  {
   "cell_type": "code",
   "execution_count": 54,
   "id": "26f0d8a1-7ef8-414f-b66a-a8414f39f6b1",
   "metadata": {},
   "outputs": [
    {
     "name": "stdout",
     "output_type": "stream",
     "text": [
      "The null values in each column:\n",
      " sepal length (cm)    0\n",
      "sepal width (cm)     0\n",
      "petal length (cm)    0\n",
      "petal width (cm)     0\n",
      "dtype: int64\n"
     ]
    }
   ],
   "source": [
    "null_values=data.isnull().sum()\n",
    "print(\"The null values in each column:\\n\",null_values)"
   ]
  },
  {
   "cell_type": "code",
   "execution_count": 55,
   "id": "1b050fe4-d39b-4551-bab3-bee19923829b",
   "metadata": {},
   "outputs": [
    {
     "data": {
      "text/plain": [
       "1"
      ]
     },
     "execution_count": 55,
     "metadata": {},
     "output_type": "execute_result"
    }
   ],
   "source": [
    "data.duplicated().sum()"
   ]
  },
  {
   "cell_type": "code",
   "execution_count": 8,
   "id": "279e8c4d-ec87-40f2-b2af-b5512571f200",
   "metadata": {},
   "outputs": [],
   "source": [
    "data=data.drop_duplicates()"
   ]
  },
  {
   "cell_type": "code",
   "execution_count": 9,
   "id": "73b3fea7-e6b7-462d-9160-e33d6259c22c",
   "metadata": {},
   "outputs": [
    {
     "data": {
      "text/plain": [
       "0"
      ]
     },
     "execution_count": 9,
     "metadata": {},
     "output_type": "execute_result"
    }
   ],
   "source": [
    "data.duplicated().sum()"
   ]
  },
  {
   "cell_type": "markdown",
   "id": "7cb71537-0ffc-4a40-8ed7-ba75f0aeb1aa",
   "metadata": {},
   "source": [
    "There is only one duplicate value, removed using drop function."
   ]
  },
  {
   "cell_type": "markdown",
   "id": "fc08e6b8-b1d3-41eb-bbb6-e1c5b0f18730",
   "metadata": {},
   "source": [
    "## 2. Clustering Algorithm Implementation"
   ]
  },
  {
   "cell_type": "markdown",
   "id": "b826d209-6407-47dd-8781-b991f62722aa",
   "metadata": {},
   "source": [
    "#### A) KMeans Clustering\n"
   ]
  },
  {
   "cell_type": "markdown",
   "id": "844d5a02-98cd-472f-9370-b87b6ef55e5d",
   "metadata": {},
   "source": [
    "* Brief Description of How KMeans Clustering Works.\n",
    "\n",
    "KMeans clustering is an unsupervised machine learning algorithm that groups data into a predefined number of clusters (k).\n",
    "\n",
    "It works through the following steps:\n",
    "\n",
    "     Randomly initialize k centroids (cluster centers).\n",
    "\n",
    "     Assign each data point to the nearest centroid based on distance (usually Euclidean distance).\n",
    "\n",
    "     Recompute the centroids by calculating the mean of the points assigned to each cluster.\n",
    "\n",
    "     Repeat the assignment and update steps until the centroids no longer change significantly (i.e., convergence).\n",
    "\n",
    "The goal is to minimize the \"inertia\" — the sum of squared distances between points and their assigned cluster centers."
   ]
  },
  {
   "cell_type": "markdown",
   "id": "7dbf2584-384f-441c-a29b-5f422bed8a4c",
   "metadata": {},
   "source": [
    "* Why KMeans Clustering is Suitable for the Iris Dataset.\n",
    "\n",
    "   The Iris dataset contains measurements of flowers (sepal length, sepal width, petal length, and petal width), which naturally form clusters based on species.\n",
    "\n",
    "   Since KMeans is good at grouping data based on feature similarities, it can effectively identify the inherent groupings in the Iris dataset without knowing the species labels.\n",
    "\n",
    "   The Iris dataset is relatively small and low-dimensional, making it ideal for KMeans, which performs best when clusters are roughly spherical and well-separated."
   ]
  },
  {
   "cell_type": "markdown",
   "id": "15b5fdf6-b500-41f3-9368-1872c3c91dab",
   "metadata": {},
   "source": [
    "* Apply KMeans clustering to the preprocessed Iris dataset and visualize the clusters.\n"
   ]
  },
  {
   "cell_type": "code",
   "execution_count": 56,
   "id": "4e9afbd6-f4c2-436a-b9bc-f95adcbc8f39",
   "metadata": {},
   "outputs": [
    {
     "data": {
      "image/png": "[encoded data removed]",
      "text/plain": [
       "<Figure size 800x500 with 1 Axes>"
      ]
     },
     "metadata": {},
     "output_type": "display_data"
    }
   ],
   "source": [
    "from sklearn.preprocessing import StandardScaler\n",
    "from sklearn.cluster import KMeans\n",
    "import matplotlib.pyplot as plt\n",
    "\n",
    "# Scaling the Features\n",
    "scaler = StandardScaler()\n",
    "scaled_features = scaler.fit_transform(data)\n",
    "\n",
    "# Elbow Method to Determine Optimal Number of Clusters\n",
    "inertia = []\n",
    "k_range = range(1, 11)\n",
    "\n",
    "for k in k_range:\n",
    "    kmeans = KMeans(n_clusters=k, random_state=42, n_init=10)\n",
    "    kmeans.fit(scaled_features)\n",
    "    inertia.append(kmeans.inertia_)\n",
    "\n",
    "# Plotting the Elbow Curve\n",
    "plt.figure(figsize=(8, 5))\n",
    "plt.plot(k_range, inertia, marker='o', linestyle='--')\n",
    "plt.title(\"Elbow Method for Optimal k\")\n",
    "plt.xlabel(\"Number of Clusters (k)\")\n",
    "plt.ylabel(\"Inertia (Sum of Squared Distances)\")\n",
    "plt.grid(True)\n",
    "plt.show()\n"
   ]
  },
  {
   "cell_type": "code",
   "execution_count": 57,
   "id": "58721250-05cf-45e3-acee-ad481471eba2",
   "metadata": {},
   "outputs": [],
   "source": [
    "# Choose Optimal Number of Clusters \n",
    "optimal_k = 3\n",
    "kmeans = KMeans(n_clusters=optimal_k, random_state=42, n_init=10)\n"
   ]
  },
  {
   "cell_type": "code",
   "execution_count": 58,
   "id": "44474964-7e53-487e-8603-0d324ff34a09",
   "metadata": {},
   "outputs": [],
   "source": [
    "cluster_labels=kmeans.fit_predict(scaled_features)"
   ]
  },
  {
   "cell_type": "code",
   "execution_count": 59,
   "id": "2bf2d03b-e7e0-49d3-b1c6-2ced2b7645c5",
   "metadata": {},
   "outputs": [
    {
     "data": {
      "text/html": [
       "<div>\n",
       "<style scoped>\n",
       "    .dataframe tbody tr th:only-of-type {\n",
       "        vertical-align: middle;\n",
       "    }\n",
       "\n",
       "    .dataframe tbody tr th {\n",
       "        vertical-align: top;\n",
       "    }\n",
       "\n",
       "    .dataframe thead th {\n",
       "        text-align: right;\n",
       "    }\n",
       "</style>\n",
       "<table border=\"1\" class=\"dataframe\">\n",
       "  <thead>\n",
       "    <tr style=\"text-align: right;\">\n",
       "      <th></th>\n",
       "      <th>sepal length (cm)</th>\n",
       "      <th>sepal width (cm)</th>\n",
       "      <th>petal length (cm)</th>\n",
       "      <th>petal width (cm)</th>\n",
       "      <th>Cluster</th>\n",
       "    </tr>\n",
       "  </thead>\n",
       "  <tbody>\n",
       "    <tr>\n",
       "      <th>0</th>\n",
       "      <td>5.1</td>\n",
       "      <td>3.5</td>\n",
       "      <td>1.4</td>\n",
       "      <td>0.2</td>\n",
       "      <td>1</td>\n",
       "    </tr>\n",
       "    <tr>\n",
       "      <th>1</th>\n",
       "      <td>4.9</td>\n",
       "      <td>3.0</td>\n",
       "      <td>1.4</td>\n",
       "      <td>0.2</td>\n",
       "      <td>1</td>\n",
       "    </tr>\n",
       "    <tr>\n",
       "      <th>2</th>\n",
       "      <td>4.7</td>\n",
       "      <td>3.2</td>\n",
       "      <td>1.3</td>\n",
       "      <td>0.2</td>\n",
       "      <td>1</td>\n",
       "    </tr>\n",
       "    <tr>\n",
       "      <th>3</th>\n",
       "      <td>4.6</td>\n",
       "      <td>3.1</td>\n",
       "      <td>1.5</td>\n",
       "      <td>0.2</td>\n",
       "      <td>1</td>\n",
       "    </tr>\n",
       "    <tr>\n",
       "      <th>4</th>\n",
       "      <td>5.0</td>\n",
       "      <td>3.6</td>\n",
       "      <td>1.4</td>\n",
       "      <td>0.2</td>\n",
       "      <td>1</td>\n",
       "    </tr>\n",
       "    <tr>\n",
       "      <th>...</th>\n",
       "      <td>...</td>\n",
       "      <td>...</td>\n",
       "      <td>...</td>\n",
       "      <td>...</td>\n",
       "      <td>...</td>\n",
       "    </tr>\n",
       "    <tr>\n",
       "      <th>145</th>\n",
       "      <td>6.7</td>\n",
       "      <td>3.0</td>\n",
       "      <td>5.2</td>\n",
       "      <td>2.3</td>\n",
       "      <td>2</td>\n",
       "    </tr>\n",
       "    <tr>\n",
       "      <th>146</th>\n",
       "      <td>6.3</td>\n",
       "      <td>2.5</td>\n",
       "      <td>5.0</td>\n",
       "      <td>1.9</td>\n",
       "      <td>0</td>\n",
       "    </tr>\n",
       "    <tr>\n",
       "      <th>147</th>\n",
       "      <td>6.5</td>\n",
       "      <td>3.0</td>\n",
       "      <td>5.2</td>\n",
       "      <td>2.0</td>\n",
       "      <td>2</td>\n",
       "    </tr>\n",
       "    <tr>\n",
       "      <th>148</th>\n",
       "      <td>6.2</td>\n",
       "      <td>3.4</td>\n",
       "      <td>5.4</td>\n",
       "      <td>2.3</td>\n",
       "      <td>2</td>\n",
       "    </tr>\n",
       "    <tr>\n",
       "      <th>149</th>\n",
       "      <td>5.9</td>\n",
       "      <td>3.0</td>\n",
       "      <td>5.1</td>\n",
       "      <td>1.8</td>\n",
       "      <td>0</td>\n",
       "    </tr>\n",
       "  </tbody>\n",
       "</table>\n",
       "<p>150 rows × 5 columns</p>\n",
       "</div>"
      ],
      "text/plain": [
       "     sepal length (cm)  sepal width (cm)  petal length (cm)  petal width (cm)  \\\n",
       "0                  5.1               3.5                1.4               0.2   \n",
       "1                  4.9               3.0                1.4               0.2   \n",
       "2                  4.7               3.2                1.3               0.2   \n",
       "3                  4.6               3.1                1.5               0.2   \n",
       "4                  5.0               3.6                1.4               0.2   \n",
       "..                 ...               ...                ...               ...   \n",
       "145                6.7               3.0                5.2               2.3   \n",
       "146                6.3               2.5                5.0               1.9   \n",
       "147                6.5               3.0                5.2               2.0   \n",
       "148                6.2               3.4                5.4               2.3   \n",
       "149                5.9               3.0                5.1               1.8   \n",
       "\n",
       "     Cluster  \n",
       "0          1  \n",
       "1          1  \n",
       "2          1  \n",
       "3          1  \n",
       "4          1  \n",
       "..       ...  \n",
       "145        2  \n",
       "146        0  \n",
       "147        2  \n",
       "148        2  \n",
       "149        0  \n",
       "\n",
       "[150 rows x 5 columns]"
      ]
     },
     "execution_count": 59,
     "metadata": {},
     "output_type": "execute_result"
    }
   ],
   "source": [
    "data[\"Cluster\"]=kmeans.labels_\n",
    "data"
   ]
  },
  {
   "cell_type": "code",
   "execution_count": 60,
   "id": "efa1dab5-3911-4d7a-a51d-2b92c9270b0a",
   "metadata": {},
   "outputs": [
    {
     "data": {
      "text/plain": [
       "<Axes: xlabel='sepal length (cm)', ylabel='petal length (cm)'>"
      ]
     },
     "execution_count": 60,
     "metadata": {},
     "output_type": "execute_result"
    },
    {
     "data": {
      "image/png": "[encoded data removed]",
      "text/plain": [
       "<Figure size 640x480 with 1 Axes>"
      ]
     },
     "metadata": {},
     "output_type": "display_data"
    }
   ],
   "source": [
    "sns.scatterplot(data=data,x=\"sepal length (cm)\",y=\"petal length (cm)\",hue=\"Cluster\")"
   ]
  },
  {
   "cell_type": "code",
   "execution_count": 61,
   "id": "ddf72134-be7e-4b17-971d-ff8f8e22a9d4",
   "metadata": {},
   "outputs": [
    {
     "data": {
      "text/plain": [
       "array([1, 2, 0])"
      ]
     },
     "execution_count": 61,
     "metadata": {},
     "output_type": "execute_result"
    }
   ],
   "source": [
    "data[\"Cluster\"].unique()"
   ]
  },
  {
   "cell_type": "code",
   "execution_count": 64,
   "id": "8588dc0f-f171-43c2-be34-529e5ceefe08",
   "metadata": {},
   "outputs": [
    {
     "name": "stdout",
     "output_type": "stream",
     "text": [
      "Silhouette Score: 0.46\n",
      "Davies-Bouldin Index: 0.83\n",
      "Calinski-Harabasz Index: 241.90\n"
     ]
    }
   ],
   "source": [
    "# Evaluate Model Performance\n",
    "# 1. Silhouette Score\n",
    "sil_score = silhouette_score(scaled_features, cluster_labels)\n",
    "print(f\"Silhouette Score: {sil_score:.2f}\")\n",
    "\n",
    "# 2. Davies-Bouldin Index\n",
    "db_score = davies_bouldin_score(scaled_features, cluster_labels)\n",
    "print(f\"Davies-Bouldin Index: {db_score:.2f}\")\n",
    "\n",
    "from sklearn.metrics import calinski_harabasz_score\n",
    "\n",
    "# Calculate Calinski-Harabasz Index\n",
    "ch_score = calinski_harabasz_score(scaled_features, cluster_labels)\n",
    "print(f\"Calinski-Harabasz Index: {ch_score:.2f}\")"
   ]
  },
  {
   "cell_type": "markdown",
   "id": "b125c615-2c2d-4b17-a214-c62f810cb258",
   "metadata": {},
   "source": [
    "#### B) Hierarchical Clustering"
   ]
  },
  {
   "cell_type": "markdown",
   "id": "951b3b4c-6ef3-4fc7-84f4-992a202c8d00",
   "metadata": {},
   "source": [
    "* Brief Description of How Hierarchical Clustering Works.\n",
    "\n",
    "Hierarchical clustering is an unsupervised machine learning algorithm that groups data into a hierarchy of clusters.\n",
    "    \n",
    " There are two main types:\n",
    "\n",
    "    > Agglomerative (Bottom-Up):\n",
    "\n",
    "  Start with each data point as its own cluster.\n",
    "\n",
    "  Iteratively merge the closest pairs of clusters.\n",
    "\n",
    "  Continue until all points belong to a single cluster or a stopping condition is met.\n",
    "\n",
    "    > Divisive (Top-Down):\n",
    "\n",
    "  Start with all data points in one large cluster.\n",
    "\n",
    "  Recursively split the cluster into smaller ones.\n",
    "\n",
    "The result can be visualized using a dendrogram, which shows the merging (or splitting) process.\n",
    "\n"
   ]
  },
  {
   "cell_type": "markdown",
   "id": "ad4418ed-732b-41c8-a1c5-961eb72e854c",
   "metadata": {},
   "source": [
    "*  Why Hierarchical Clustering is Suitable for the Iris Dataset.\n",
    "  \n",
    "The Iris dataset is relatively small (only 150 samples), making it efficient for hierarchical clustering, which can be computationally expensive for very large datasets.\n",
    "\n",
    "It provides a dendrogram, allowing us to visually assess how data points form clusters at different levels.\n",
    "\n",
    "It does not require us to specify the number of clusters initially (unlike KMeans).\n",
    "\n",
    "Since the Iris dataset has natural groupings (three species), hierarchical clustering can help uncover these groupings without prior knowledge."
   ]
  },
  {
   "cell_type": "markdown",
   "id": "1badb3d6-12f4-4a12-bfbe-fd749eeef3c2",
   "metadata": {},
   "source": [
    "* Apply Hierarchical Clustering to the Preprocessed Iris Dataset and Visualize the Clusters."
   ]
  },
  {
   "cell_type": "code",
   "execution_count": 65,
   "id": "7588f771-fc31-4b9a-9828-7f5ae3243500",
   "metadata": {},
   "outputs": [],
   "source": [
    " import matplotlib.pyplot as plt\n",
    "import scipy.cluster.hierarchy as shc\n",
    "from sklearn.cluster import AgglomerativeClustering\n"
   ]
  },
  {
   "cell_type": "code",
   "execution_count": 66,
   "id": "34a7a6c8-1485-452b-a3cf-dfafd8a9059d",
   "metadata": {},
   "outputs": [
    {
     "data": {
      "image/png": "[encoded data removed]",
      "text/plain": [
       "<Figure size 1000x800 with 1 Axes>"
      ]
     },
     "metadata": {},
     "output_type": "display_data"
    }
   ],
   "source": [
    "# Plotting a Dendrogram\n",
    "import matplotlib.pyplot as plt\n",
    "plt.figure(figsize=(10, 8))\n",
    "plt.title(\"Dendrograms\")\n",
    "dend = shc.dendrogram(shc.linkage (scaled_features, method='ward'))"
   ]
  },
  {
   "cell_type": "code",
   "execution_count": 67,
   "id": "2382e44b-0119-4015-87dd-dc3c3b4f8827",
   "metadata": {},
   "outputs": [
    {
     "data": {
      "text/plain": [
       "array([1, 1, 1, 1, 1, 1, 1, 1, 1, 1, 1, 1, 1, 1, 1, 1, 1, 1, 1, 1, 1, 1,\n",
       "       1, 1, 1, 1, 1, 1, 1, 1, 1, 1, 1, 1, 1, 1, 1, 1, 1, 1, 1, 1, 1, 1,\n",
       "       1, 1, 1, 1, 1, 1, 0, 0, 0, 0, 0, 0, 0, 0, 0, 0, 0, 0, 0, 0, 0, 0,\n",
       "       0, 0, 0, 0, 0, 0, 0, 0, 0, 0, 0, 0, 0, 0, 0, 0, 0, 0, 0, 0, 0, 0,\n",
       "       0, 0, 0, 0, 0, 0, 0, 0, 0, 0, 0, 0, 0, 0, 0, 0, 0, 0, 0, 0, 0, 0,\n",
       "       0, 0, 0, 0, 0, 0, 0, 0, 0, 0, 0, 0, 0, 0, 0, 0, 0, 0, 0, 0, 0, 0,\n",
       "       0, 0, 0, 0, 0, 0, 0, 0, 0, 0, 0, 0, 0, 0, 0, 0, 0, 0], dtype=int64)"
      ]
     },
     "execution_count": 67,
     "metadata": {},
     "output_type": "execute_result"
    }
   ],
   "source": [
    "clusters=AgglomerativeClustering()\n",
    "clusters.fit_predict(data)"
   ]
  },
  {
   "cell_type": "code",
   "execution_count": 68,
   "id": "a849d09a-14ac-4c2c-b0e7-9cf19a2ae2f7",
   "metadata": {},
   "outputs": [
    {
     "data": {
      "text/html": [
       "<div>\n",
       "<style scoped>\n",
       "    .dataframe tbody tr th:only-of-type {\n",
       "        vertical-align: middle;\n",
       "    }\n",
       "\n",
       "    .dataframe tbody tr th {\n",
       "        vertical-align: top;\n",
       "    }\n",
       "\n",
       "    .dataframe thead th {\n",
       "        text-align: right;\n",
       "    }\n",
       "</style>\n",
       "<table border=\"1\" class=\"dataframe\">\n",
       "  <thead>\n",
       "    <tr style=\"text-align: right;\">\n",
       "      <th></th>\n",
       "      <th>sepal length (cm)</th>\n",
       "      <th>sepal width (cm)</th>\n",
       "      <th>petal length (cm)</th>\n",
       "      <th>petal width (cm)</th>\n",
       "      <th>Cluster</th>\n",
       "      <th>cluster2</th>\n",
       "    </tr>\n",
       "  </thead>\n",
       "  <tbody>\n",
       "    <tr>\n",
       "      <th>0</th>\n",
       "      <td>5.1</td>\n",
       "      <td>3.5</td>\n",
       "      <td>1.4</td>\n",
       "      <td>0.2</td>\n",
       "      <td>1</td>\n",
       "      <td>1</td>\n",
       "    </tr>\n",
       "    <tr>\n",
       "      <th>1</th>\n",
       "      <td>4.9</td>\n",
       "      <td>3.0</td>\n",
       "      <td>1.4</td>\n",
       "      <td>0.2</td>\n",
       "      <td>1</td>\n",
       "      <td>1</td>\n",
       "    </tr>\n",
       "    <tr>\n",
       "      <th>2</th>\n",
       "      <td>4.7</td>\n",
       "      <td>3.2</td>\n",
       "      <td>1.3</td>\n",
       "      <td>0.2</td>\n",
       "      <td>1</td>\n",
       "      <td>1</td>\n",
       "    </tr>\n",
       "    <tr>\n",
       "      <th>3</th>\n",
       "      <td>4.6</td>\n",
       "      <td>3.1</td>\n",
       "      <td>1.5</td>\n",
       "      <td>0.2</td>\n",
       "      <td>1</td>\n",
       "      <td>1</td>\n",
       "    </tr>\n",
       "    <tr>\n",
       "      <th>4</th>\n",
       "      <td>5.0</td>\n",
       "      <td>3.6</td>\n",
       "      <td>1.4</td>\n",
       "      <td>0.2</td>\n",
       "      <td>1</td>\n",
       "      <td>1</td>\n",
       "    </tr>\n",
       "    <tr>\n",
       "      <th>...</th>\n",
       "      <td>...</td>\n",
       "      <td>...</td>\n",
       "      <td>...</td>\n",
       "      <td>...</td>\n",
       "      <td>...</td>\n",
       "      <td>...</td>\n",
       "    </tr>\n",
       "    <tr>\n",
       "      <th>145</th>\n",
       "      <td>6.7</td>\n",
       "      <td>3.0</td>\n",
       "      <td>5.2</td>\n",
       "      <td>2.3</td>\n",
       "      <td>2</td>\n",
       "      <td>0</td>\n",
       "    </tr>\n",
       "    <tr>\n",
       "      <th>146</th>\n",
       "      <td>6.3</td>\n",
       "      <td>2.5</td>\n",
       "      <td>5.0</td>\n",
       "      <td>1.9</td>\n",
       "      <td>0</td>\n",
       "      <td>0</td>\n",
       "    </tr>\n",
       "    <tr>\n",
       "      <th>147</th>\n",
       "      <td>6.5</td>\n",
       "      <td>3.0</td>\n",
       "      <td>5.2</td>\n",
       "      <td>2.0</td>\n",
       "      <td>2</td>\n",
       "      <td>0</td>\n",
       "    </tr>\n",
       "    <tr>\n",
       "      <th>148</th>\n",
       "      <td>6.2</td>\n",
       "      <td>3.4</td>\n",
       "      <td>5.4</td>\n",
       "      <td>2.3</td>\n",
       "      <td>2</td>\n",
       "      <td>0</td>\n",
       "    </tr>\n",
       "    <tr>\n",
       "      <th>149</th>\n",
       "      <td>5.9</td>\n",
       "      <td>3.0</td>\n",
       "      <td>5.1</td>\n",
       "      <td>1.8</td>\n",
       "      <td>0</td>\n",
       "      <td>0</td>\n",
       "    </tr>\n",
       "  </tbody>\n",
       "</table>\n",
       "<p>150 rows × 6 columns</p>\n",
       "</div>"
      ],
      "text/plain": [
       "     sepal length (cm)  sepal width (cm)  petal length (cm)  petal width (cm)  \\\n",
       "0                  5.1               3.5                1.4               0.2   \n",
       "1                  4.9               3.0                1.4               0.2   \n",
       "2                  4.7               3.2                1.3               0.2   \n",
       "3                  4.6               3.1                1.5               0.2   \n",
       "4                  5.0               3.6                1.4               0.2   \n",
       "..                 ...               ...                ...               ...   \n",
       "145                6.7               3.0                5.2               2.3   \n",
       "146                6.3               2.5                5.0               1.9   \n",
       "147                6.5               3.0                5.2               2.0   \n",
       "148                6.2               3.4                5.4               2.3   \n",
       "149                5.9               3.0                5.1               1.8   \n",
       "\n",
       "     Cluster  cluster2  \n",
       "0          1         1  \n",
       "1          1         1  \n",
       "2          1         1  \n",
       "3          1         1  \n",
       "4          1         1  \n",
       "..       ...       ...  \n",
       "145        2         0  \n",
       "146        0         0  \n",
       "147        2         0  \n",
       "148        2         0  \n",
       "149        0         0  \n",
       "\n",
       "[150 rows x 6 columns]"
      ]
     },
     "execution_count": 68,
     "metadata": {},
     "output_type": "execute_result"
    }
   ],
   "source": [
    "data['cluster2']=clusters.fit_predict(data)\n",
    "data"
   ]
  },
  {
   "cell_type": "code",
   "execution_count": 69,
   "id": "5633ed8e-8f16-4deb-a6ae-04c2952634f7",
   "metadata": {},
   "outputs": [
    {
     "data": {
      "text/plain": [
       "array([1, 0], dtype=int64)"
      ]
     },
     "execution_count": 69,
     "metadata": {},
     "output_type": "execute_result"
    }
   ],
   "source": [
    "data[\"cluster2\"].unique()"
   ]
  },
  {
   "cell_type": "code",
   "execution_count": 70,
   "id": "59f2755d-bc25-4943-bff0-e057e9957827",
   "metadata": {},
   "outputs": [
    {
     "data": {
      "text/plain": [
       "{'C0', 'C1', 'C2'}"
      ]
     },
     "execution_count": 70,
     "metadata": {},
     "output_type": "execute_result"
    }
   ],
   "source": [
    "uniquecolor=set(dend['color_list'])\n",
    "uniquecolor"
   ]
  },
  {
   "cell_type": "code",
   "execution_count": 71,
   "id": "79f2cbb5-5fe9-45b1-b91d-382e7a4a3570",
   "metadata": {},
   "outputs": [
    {
     "data": {
      "text/plain": [
       "2"
      ]
     },
     "execution_count": 71,
     "metadata": {},
     "output_type": "execute_result"
    }
   ],
   "source": [
    "optimal_number_of_clusters=len(uniquecolor)-1\n",
    "optimal_number_of_clusters"
   ]
  },
  {
   "cell_type": "code",
   "execution_count": 72,
   "id": "185895e0-a049-4c8f-af13-c46249699a70",
   "metadata": {},
   "outputs": [],
   "source": [
    "from sklearn.cluster import AgglomerativeClustering\n",
    "\n",
    "# Apply Agglomerative Clustering (Hierarchical Clustering)\n",
    "clusters = AgglomerativeClustering(n_clusters=3)\n",
    "hierarchical_labels = clusters.fit_predict(scaled_features)\n",
    "\n",
    "# Adding labels to the data (optional, for reference)\n",
    "data['Hierarchical_Cluster'] = hierarchical_labels\n"
   ]
  },
  {
   "cell_type": "code",
   "execution_count": 73,
   "id": "ae2fb2b0-174c-4c1e-ae99-1bf27ef0dc34",
   "metadata": {},
   "outputs": [
    {
     "name": "stdout",
     "output_type": "stream",
     "text": [
      "Silhouette Score: 0.45\n",
      "Davies-Bouldin Index: 0.80\n",
      "Calinski-Harabasz Index: 222.72\n"
     ]
    }
   ],
   "source": [
    "from sklearn.metrics import silhouette_score, davies_bouldin_score, calinski_harabasz_score\n",
    "\n",
    "# 1. Calculate Silhouette Score\n",
    "sil_score = silhouette_score(scaled_features, hierarchical_labels)\n",
    "print(f\"Silhouette Score: {sil_score:.2f}\")\n",
    "\n",
    "# 2. Calculate Davies-Bouldin Index\n",
    "db_score = davies_bouldin_score(scaled_features, hierarchical_labels)\n",
    "print(f\"Davies-Bouldin Index: {db_score:.2f}\")\n",
    "\n",
    "# 3. Calculate Calinski-Harabasz Index\n",
    "ch_score = calinski_harabasz_score(scaled_features, hierarchical_labels)\n",
    "print(f\"Calinski-Harabasz Index: {ch_score:.2f}\")\n"
   ]
  },
  {
   "cell_type": "code",
   "execution_count": null,
   "id": "eafd17e3-5bd6-44d7-afa9-541cda651d05",
   "metadata": {},
   "outputs": [],
   "source": []
  }
 ],
 "metadata": {
  "kernelspec": {
   "display_name": "Python 3 (ipykernel)",
   "language": "python",
   "name": "python3"
  },
  "language_info": {
   "codemirror_mode": {
    "name": "ipython",
    "version": 3
   },
   "file_extension": ".py",
   "mimetype": "text/x-python",
   "name": "python",
   "nbconvert_exporter": "python",
   "pygments_lexer": "ipython3",
   "version": "3.12.7"
  }
 },
 "nbformat": 4,
 "nbformat_minor": 5
}
